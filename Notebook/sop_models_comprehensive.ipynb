{
 "cells": [
  {
   "cell_type": "markdown",
   "metadata": {},
   "source": [
    "# S&OP Models Comprehensive Analysis\n",
    "\n",
    "**Sales & Operations Planning - Demand & Inventory Performance Tracker**\n",
    "\n",
    "Author: Aviwe Dlepu\n",
    "Date: October 2025\n",
    "\n",
    "## Overview\n",
    "This notebook provides a comprehensive analysis of Sales & Operations Planning (S&OP) data including:\n",
    "- Demand forecasting models\n",
    "- Inventory optimization\n",
    "- Performance tracking\n",
    "- Executive dashboards"
   ]
  },
  {
   "cell_type": "markdown",
   "metadata": {},
   "source": [
    "## 1. Data Loading and Setup"
   ]
  },
  {
   "cell_type": "code",
   "execution_count": null,
   "metadata": {},
   "outputs": [],
   "source": [
    "import pandas as pd\n",
    "import numpy as np\n",
    "import matplotlib.pyplot as plt\n",
    "import seaborn as sns\n",
    "import plotly.express as px\n",
    "import plotly.graph_objects as go\n",
    "from plotly.subplots import make_subplots\n",
    "from sklearn.ensemble import RandomForestRegressor\n",
    "from sklearn.linear_model import LinearRegression\n",
    "from sklearn.metrics import mean_absolute_error, mean_squared_error\n",
    "from sklearn.model_selection import train_test_split\n",
    "import warnings\n",
    "warnings.filterwarnings('ignore')\n",
    "\n",
    "# Set style\n",
    "plt.style.use('seaborn-v0_8')\n",
    "sns.set_palette(\"husl\")\n",
    "\n",
    "print(\"📊 S&OP Analysis Environment Setup Complete\")\n",
    "print(\"Author: Aviwe Dlepu\")\n",
    "print(\"Project: Sales & Operations Planning Analytics\")\n",
    "print(\"Date:", pd.Timestamp.now().strftime('%Y-%m-%d'))"
   ]
  },
  {
   "cell_type": "code",
   "execution_count": null,
   "metadata": {},
   "outputs": [],
   "source": [
    "# Load datasets\n",
    "try:\n",
    "    orders_df = pd.read_csv('../data/raw/final_orders_perfect_integrity.csv')\n",
    "    products_df = pd.read_csv('../data/raw/final_products_perfect_integrity.csv')\n",
    "    inventory_df = pd.read_csv('../data/raw/final_inventory_perfect_integrity.csv')\n",
    "    forecasts_df = pd.read_csv('../data/raw/final_forecasts_perfect_integrity.csv')\n",
    "    \n",
    "    print(\"✅ All datasets loaded successfully\")\n",
    "    print(f\"📦 Orders: {len(orders_df):,} records\")\n",
    "    print(f\"🏷️  Products: {len(products_df):,} records\")\n",
    "    print(f\"📋 Inventory: {len(inventory_df):,} records\")\n",
    "    print(f\"🎯 Forecasts: {len(forecasts_df):,} records\")\n",
    "    \n",
    "except FileNotFoundError as e:\n",
    "    print(f\"❌ Error loading data: {e}\")\n",
    "    print(\"Please ensure data files are in the correct location: ../data/raw/\")"
   ]
  },
  {
   "cell_type": "markdown",
   "metadata": {},
   "source": [
    "## 2. Exploratory Data Analysis"
   ]
  },
  {
   "cell_type": "code",
   "execution_count": null,
   "metadata": {},
   "outputs": [],
   "source": [
    "# Data overview\n",
    "print(\"=== ORDERS DATASET OVERVIEW ===\")\n",
    "print(orders_df.info())\n",
    "print(\"\\n=== SAMPLE DATA ===\")\n",
    "print(orders_df.head())"
   ]
  },
  {
   "cell_type": "code",
   "execution_count": null,
   "metadata": {},
   "outputs": [],
   "source": [
    "# Revenue analysis\n",
    "total_revenue = orders_df['order_value'].sum()\n",
    "total_orders = len(orders_df)\n",
    "avg_order_value = orders_df['order_value'].mean()\n",
    "\n",
    "print(f\"💰 Total Revenue: R{total_revenue:,.2f}\")\n",
    "print(f\"📦 Total Orders: {total_orders:,}\")\n",
    "print(f\"📈 Average Order Value: R{avg_order_value:,.2f}\")\n",
    "\n",
    "# Regional performance\n",
    "regional_performance = orders_df.groupby('region').agg({\n",
    "    'order_value': ['sum', 'mean', 'count']\n",
    "}).round(2)\n",
    "\n",
    "print(\"\\n=== REGIONAL PERFORMANCE ===\")\n",
    "print(regional_performance)"
   ]
  },
  {
   "cell_type": "markdown",
   "metadata": {},
   "source": [
    "## 3. Demand Forecasting Models"
   ]
  },
  {
   "cell_type": "code",
   "execution_count": null,
   "metadata": {},
   "outputs": [],
   "source": [
    "# Prepare forecasting data\n",
    "forecast_accuracy = forecasts_df.copy()\n",
    "forecast_accuracy['absolute_error'] = abs(forecast_accuracy['variance_pct'])\n",
    "forecast_accuracy['mape'] = forecast_accuracy['absolute_error']\n",
    "\n",
    "# Model performance by type\n",
    "model_performance = forecast_accuracy.groupby('forecast_type').agg({\n",
    "    'mape': ['mean', 'median', 'std'],\n",
    "    'variance_pct': ['mean', 'std'],\n",
    "    'product_id': 'count'\n",
    "}).round(2)\n",
    "\n",
    "print(\"=== FORECAST MODEL PERFORMANCE ===\")\n",
    "print(model_performance)\n",
    "\n",
    "# Best performing model\n",
    "best_model = forecast_accuracy.groupby('forecast_type')['mape'].mean().idxmin()\n",
    "best_accuracy = forecast_accuracy.groupby('forecast_type')['mape'].mean().min()\n",
    "\n",
    "print(f\"\\n🏆 Best Model: {best_model}\")\n",
    "print(f\"📊 Accuracy: {100-best_accuracy:.1f}%\")"
   ]
  },
  {
   "cell_type": "code",
   "execution_count": null,
   "metadata": {},
   "outputs": [],
   "source": [
    "# Visualization: Forecast accuracy by model type\n",
    "fig, axes = plt.subplots(1, 2, figsize=(15, 6))\n",
    "\n",
    "# Box plot of forecast errors\n",
    "forecast_accuracy.boxplot(column='mape', by='forecast_type', ax=axes[0])\n",
    "axes[0].set_title('Forecast Error Distribution by Model Type')\n",
    "axes[0].set_xlabel('Forecast Type')\n",
    "axes[0].set_ylabel('Mean Absolute Percentage Error (%)')\n",
    "\n",
    "# Average accuracy by model\n",
    "avg_accuracy = 100 - forecast_accuracy.groupby('forecast_type')['mape'].mean()\n",
    "avg_accuracy.plot(kind='bar', ax=axes[1], color=['#CC5500', '#FF6347', '#FFA500'])\n",
    "axes[1].set_title('Average Forecast Accuracy by Model')\n",
    "axes[1].set_ylabel('Accuracy (%)')\n",
    "axes[1].tick_params(axis='x', rotation=45)\n",
    "\n",
    "plt.tight_layout()\n",
    "plt.show()"
   ]
  },
  {
   "cell_type": "markdown",
   "metadata": {},
   "source": [
    "## 4. Inventory Analysis"
   ]
  },
  {
   "cell_type": "code",
   "execution_count": null,
   "metadata": {},
   "outputs": [],
   "source": [
    "# Inventory metrics\n",
    "total_inventory_value = inventory_df['inventory_value'].sum()\n",
    "stock_status_counts = inventory_df['stock_status'].value_counts()\n",
    "\n",
    "print(f\"📋 Total Inventory Value: R{total_inventory_value:,.2f}\")\n",
    "print(\"\\n=== STOCK STATUS DISTRIBUTION ===\")\n",
    "for status, count in stock_status_counts.items():\n",
    "    pct = (count / len(inventory_df)) * 100\n",
    "    print(f\"{status}: {count} products ({pct:.1f}%)\")\n",
    "\n",
    "# Top products by inventory value\n",
    "top_inventory = inventory_df.nlargest(10, 'inventory_value')[['product_id', 'inventory_value', 'stock_status']]\n",
    "print(\"\\n=== TOP 10 PRODUCTS BY INVENTORY VALUE ===\")\n",
    "print(top_inventory)"
   ]
  },
  {
   "cell_type": "code",
   "execution_count": null,
   "metadata": {},
   "outputs": [],
   "source": [
    "# Inventory turnover analysis\n",
    "inventory_analysis = inventory_df.merge(\n",
    "    orders_df.groupby('product_id')['order_value'].sum().reset_index(),\n",
    "    on='product_id',\n",
    "    how='left'\n",
    ")\n",
    "\n",
    "inventory_analysis['turnover_ratio'] = (\n",
    "    inventory_analysis['order_value'] / inventory_analysis['inventory_value']\n",
    ").fillna(0)\n",
    "\n",
    "print(\"=== INVENTORY TURNOVER ANALYSIS ===\")\n",
    "print(f\"Average Turnover Ratio: {inventory_analysis['turnover_ratio'].mean():.2f}\")\n",
    "print(f\"Median Turnover Ratio: {inventory_analysis['turnover_ratio'].median():.2f}\")\n",
    "\n",
    "# Products with poor turnover\n",
    "poor_turnover = inventory_analysis[\n",
    "    inventory_analysis['turnover_ratio'] < 0.5\n",
    "].nlargest(5, 'inventory_value')\n",
    "\n",
    "print(\"\\n=== PRODUCTS WITH POOR TURNOVER (High Value) ===\")\n",
    "print(poor_turnover[['product_id', 'inventory_value', 'turnover_ratio', 'stock_status']])"
   ]
  },
  {
   "cell_type": "markdown",
   "metadata": {},
   "source": [
    "## 5. Customer Segmentation Analysis"
   ]
  },
  {
   "cell_type": "code",
   "execution_count": null,
   "metadata": {},
   "outputs": [],
   "source": [
    "# Customer segment performance\n",
    "segment_analysis = orders_df.groupby('customer_type').agg({\n",
    "    'order_value': ['sum', 'mean', 'count'],\n",
    "    'qty': ['sum', 'mean'],\n",
    "    'discount_pct': 'mean'\n",
    "}).round(2)\n",
    "\n",
    "print(\"=== CUSTOMER SEGMENT ANALYSIS ===\")\n",
    "print(segment_analysis)\n",
    "\n",
    "# Revenue contribution by segment\n",
    "segment_revenue = orders_df.groupby('customer_type')['order_value'].sum()\n",
    "segment_pct = (segment_revenue / segment_revenue.sum() * 100).round(1)\n",
    "\n",
    "print(\"\\n=== REVENUE CONTRIBUTION BY SEGMENT ===\")\n",
    "for segment, pct in segment_pct.items():\n",
    "    revenue = segment_revenue[segment]\n",
    "    print(f\"{segment}: R{revenue:,.0f} ({pct}%)\")"
   ]
  },
  {
   "cell_type": "markdown",
   "metadata": {},
   "source": [
    "## 6. Sales Performance Dashboard"
   ]
  },
  {
   "cell_type": "code",
   "execution_count": null,
   "metadata": {},
   "outputs": [],
   "source": [
    "# Create comprehensive dashboard\n",
    "from visualization import create_sop_dashboard\n",
    "\n",
    "# Prepare datasets for dashboard\n",
    "datasets = {\n",
    "    'orders': orders_df,\n",
    "    'inventory': inventory_df,\n",
    "    'forecasts': forecasts_df\n",
    "}\n",
    "\n",
    "# Generate dashboard\n",
    "dashboard_fig = create_sop_dashboard(datasets, figsize=(20, 15))\n",
    "plt.show()\n",
    "\n",
    "print(\"📊 S&OP Executive Dashboard Generated Successfully!\")"
   ]
  },
  {
   "cell_type": "markdown",
   "metadata": {},
   "source": [
    "## 7. Advanced Analytics & Insights"
   ]
  },
  {
   "cell_type": "code",
   "execution_count": null,
   "metadata": {},
   "outputs": [],
   "source": [
    "# Time series analysis\n",
    "orders_df['order_date'] = pd.to_datetime(orders_df['order_date'])\n",
    "\n",
    "# Monthly trends\n",
    "monthly_trends = orders_df.groupby(\n",
    "    orders_df['order_date'].dt.to_period('M')\n",
    ").agg({\n",
    "    'order_value': ['sum', 'count'],\n",
    "    'qty': 'sum'\n",
    "}).round(2)\n",
    "\n",
    "print(\"=== MONTHLY PERFORMANCE TRENDS ===\")\n",
    "print(monthly_trends)\n",
    "\n",
    "# Growth rates\n",
    "monthly_revenue = orders_df.groupby(\n",
    "    orders_df['order_date'].dt.to_period('M')\n",
    ")['order_value'].sum()\n",
    "\n",
    "growth_rate = monthly_revenue.pct_change().fillna(0) * 100\n",
    "avg_growth = growth_rate.mean()\n",
    "\n",
    "print(f\"\\n📈 Average Monthly Growth Rate: {avg_growth:.1f}%\")\n",
    "print(f\"📊 Revenue Volatility (Std Dev): {growth_rate.std():.1f}%\")"
   ]
  },
  {
   "cell_type": "code",
   "execution_count": null,
   "metadata": {},
   "outputs": [],
   "source": [
    "# Product performance analysis\n",
    "product_performance = orders_df.groupby('product_id').agg({\n",
    "    'order_value': ['sum', 'count'],\n",
    "    'qty': 'sum',\n",
    "    'discount_pct': 'mean'\n",
    "})\n",
    "\n",
    "product_performance.columns = ['total_revenue', 'order_count', 'total_qty', 'avg_discount']\n",
    "product_performance['avg_order_value'] = (\n",
    "    product_performance['total_revenue'] / product_performance['order_count']\n",
    ")\n",
    "\n",
    "# Top performers\n",
    "top_products = product_performance.nlargest(10, 'total_revenue')\n",
    "\n",
    "print(\"=== TOP 10 PRODUCTS BY REVENUE ===\")\n",
    "print(top_products.round(2))"
   ]
  },
  {
   "cell_type": "markdown",
   "metadata": {},
   "source": [
    "## 8. Recommendations & Next Steps"
   ]
  },
  {
   "cell_type": "code",
   "execution_count": null,
   "metadata": {},
   "outputs": [],
   "source": [
    "# Generate automated insights and recommendations\n",
    "print(\"🎯 === S&OP INSIGHTS & RECOMMENDATIONS ===\\n\")\n",
    "\n",
    "# Forecast accuracy insights\n",
    "ml_accuracy = 100 - forecast_accuracy[forecast_accuracy['forecast_type'] == 'ML_Model']['mape'].mean()\n",
    "statistical_accuracy = 100 - forecast_accuracy[forecast_accuracy['forecast_type'] == 'Statistical']['mape'].mean()\n",
    "manual_accuracy = 100 - forecast_accuracy[forecast_accuracy['forecast_type'] == 'Manual']['mape'].mean()\n",
    "\n",
    "print(f\"📊 FORECASTING PERFORMANCE:\")\n",
    "print(f\"   • ML Model Accuracy: {ml_accuracy:.1f}%\")\n",
    "print(f\"   • Statistical Model Accuracy: {statistical_accuracy:.1f}%\")\n",
    "print(f\"   • Manual Forecast Accuracy: {manual_accuracy:.1f}%\")\n",
    "\n",
    "if ml_accuracy > statistical_accuracy and ml_accuracy > manual_accuracy:\n",
    "    print(f\"   ✅ Recommendation: Expand ML model usage for improved accuracy\")\n",
    "\n",
    "# Inventory insights\n",
    "excess_inventory = inventory_df[inventory_df['stock_status'] == 'Excess']['inventory_value'].sum()\n",
    "excess_pct = (excess_inventory / total_inventory_value) * 100\n",
    "\n",
    "print(f\"\\n📋 INVENTORY OPTIMIZATION:\")\n",
    "print(f\"   • Excess Inventory Value: R{excess_inventory:,.0f} ({excess_pct:.1f}%)\")\n",
    "\n",
    "if excess_pct > 20:\n",
    "    print(f\"   ⚠️  High excess inventory detected - review stocking policies\")\n",
    "\n",
    "# Customer segment insights\n",
    "premium_revenue_pct = (segment_revenue['Premium'] / segment_revenue.sum()) * 100\n",
    "business_revenue_pct = (segment_revenue['Business'] / segment_revenue.sum()) * 100\n",
    "\n",
    "print(f\"\\n👥 CUSTOMER SEGMENTS:\")\n",
    "print(f\"   • Premium Segment: {premium_revenue_pct:.1f}% of revenue\")\n",
    "print(f\"   • Business Segment: {business_revenue_pct:.1f}% of revenue\")\n",
    "\n",
    "if premium_revenue_pct < 30:\n",
    "    print(f\"   🎯 Opportunity: Grow premium segment through targeted campaigns\")\n",
    "\n",
    "print(f\"\\n🚀 NEXT STEPS:\")\n",
    "print(f\"   1. Implement advanced ML forecasting models\")\n",
    "print(f\"   2. Optimize inventory levels for excess stock items\")\n",
    "print(f\"   3. Develop customer retention strategies for high-value segments\")\n",
    "print(f\"   4. Establish monthly S&OP review meetings\")\n",
    "print(f\"   5. Integrate real-time dashboard for operational monitoring\")"
   ]
  },
  {
   "cell_type": "markdown",
   "metadata": {},
   "source": [
    "## 9. Export Results"
   ]
  },
  {
   "cell_type": "code",
   "execution_count": null,
   "metadata": {},
   "outputs": [],
   "source": [
    "# Export summary results\n",
    "summary_results = {\n",
    "    'total_revenue': total_revenue,\n",
    "    'total_orders': total_orders,\n",
    "    'avg_order_value': avg_order_value,\n",
    "    'total_inventory_value': total_inventory_value,\n",
    "    'best_forecast_model': best_model,\n",
    "    'forecast_accuracy': best_accuracy,\n",
    "    'excess_inventory_pct': excess_pct,\n",
    "    'avg_monthly_growth': avg_growth\n",
    "}\n",
    "\n",
    "# Save to CSV\n",
    "pd.DataFrame([summary_results]).to_csv('sop_analysis_summary.csv', index=False)\n",
    "\n",
    "print(\"✅ Analysis complete! Summary exported to 'sop_analysis_summary.csv'\")\n",
    "print(\"📊 Dashboard ready for executive presentation\")\n",
    "print(\"🎯 Recommendations available for S&OP planning meetings\")"
   ]
  }
 ],
 "metadata": {
  "kernelspec": {
   "display_name": "Python 3",
   "language": "python",
   "name": "python3"
  },
  "language_info": {
   "codemirror_mode": {
    "name": "ipython",
    "version": 3
   },
   "file_extension": ".py",
   "name": "python",
   "nbconvert_exporter": "python",
   "pygments_lexer": "ipython3",
   "version": "3.9.0"
  }
 },
 "nbformat": 4,
 "nbformat_minor": 4
}